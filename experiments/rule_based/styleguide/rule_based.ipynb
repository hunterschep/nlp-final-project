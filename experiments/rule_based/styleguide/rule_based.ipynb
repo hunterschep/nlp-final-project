{
  "cells": [
    {
      "cell_type": "markdown",
      "metadata": {
        "id": "JOBDiHmt4HhX"
      },
      "source": [
        "# Rule-Based Decision Tree"
      ]
    },
    {
      "cell_type": "code",
      "execution_count": null,
      "metadata": {
        "id": "gboDwKai4HhY"
      },
      "outputs": [],
      "source": [
        "!pip install -q tqdm"
      ]
    },
    {
      "cell_type": "code",
      "execution_count": 20,
      "metadata": {
        "id": "pxriESpf4HhZ"
      },
      "outputs": [],
      "source": [
        "import pandas as pd\n",
        "from sklearn.model_selection import train_test_split\n",
        "from sklearn.metrics import classification_report, accuracy_score\n",
        "from sklearn.tree import DecisionTreeClassifier\n",
        "from sklearn.preprocessing import LabelEncoder\n",
        "import multiprocessing, warnings, re, string, os\n",
        "from tqdm.auto import tqdm\n",
        "\n",
        "tqdm.pandas()"
      ]
    },
    {
      "cell_type": "code",
      "source": [
        "from google.colab import drive\n",
        "drive.mount('/content/drive')"
      ],
      "metadata": {
        "colab": {
          "base_uri": "https://localhost:8080/"
        },
        "id": "vNDTG4HdCCdg",
        "outputId": "7b353ba1-cea5-4fd9-fbf5-0ada08c35981"
      },
      "execution_count": 26,
      "outputs": [
        {
          "output_type": "stream",
          "name": "stdout",
          "text": [
            "Drive already mounted at /content/drive; to attempt to forcibly remount, call drive.mount(\"/content/drive\", force_remount=True).\n"
          ]
        }
      ]
    },
    {
      "cell_type": "code",
      "execution_count": 27,
      "metadata": {
        "id": "RBOWcVmz4HhZ",
        "outputId": "ff704164-dcd1-42b1-d435-56d16c832851",
        "colab": {
          "base_uri": "https://localhost:8080/"
        }
      },
      "outputs": [
        {
          "output_type": "stream",
          "name": "stdout",
          "text": [
            "          publication                                      clean_article  \\\n",
            "0  The New York Times   a love of [NAME] and slap bracelets, [NAME] s...   \n",
            "1  The New York Times  warm, occasionally downright balmy, weather, a...   \n",
            "2  The New York Times  dably confused. When he was a boy, Havana was ...   \n",
            "\n",
            "   split  \n",
            "0  train  \n",
            "1  train  \n",
            "2  train  \n",
            "Train size: 90000, Test size: 10000\n"
          ]
        }
      ],
      "source": [
        "DATA_PATH = \"drive/MyDrive/all-the-news-2-1-SMALL-CLEANED.csv\"\n",
        "df = pd.read_csv(DATA_PATH)\n",
        "print(df.head(3)[[\"publication\", \"clean_article\", \"split\"]])\n",
        "\n",
        "# Split provided by the file\n",
        "train_df = df[df[\"split\"] == \"train\"].reset_index(drop=True)\n",
        "test_df  = df[df[\"split\"] == \"test\"].reset_index(drop=True)\n",
        "\n",
        "#Confirming\n",
        "print(f\"Train size: {len(train_df)}, Test size: {len(test_df)}\")"
      ]
    },
    {
      "cell_type": "code",
      "source": [
        "feature_keywords = {\n",
        "    \"politics_general\": [\"Trump\", \"white house\", \"congress\"],\n",
        "    \"democrat_themes\": [\"Democrat\", \"liberal\"],\n",
        "    \"republican_themes\": [\"Republican\", \"MAGA\"],\n",
        "    \"personal\": [\"I \", \"we \", \"us \"],\n",
        "    \"dateline\": [\"LONDON\", \"NEW YORK\", \"WASHINGTON\", \"VATICAN CITY\", \"BEIJING\"],\n",
        "    \"formal verbs\": [\"said\", \"reported\", \"confirmed\", \"told\", \"announced\", \"stated\", \"added\", \"noted\", \"explained\", \"acknowledged\", \"claimed\", \"revealed\", \"outlined\", \"indicated\", \"suggested\", \"asserted\", \"responded\", \"disclosed\", \"emphasized\",],\n",
        "    \"informal verbs\": [\"chimed in\", \"claimed\", \"demanded\", \"argued\", \"exposed\", \"called out\", \"blamed\", \"declared\", \"exclaimed\", \"hinted\", \"warned\", \"complained\", \"reported\", \"spoke\", \"shouted\", \"accused\", \"mocked\"],\n",
        "    \"Economist_themes\": [\"regime\", \"GDP\", \"policymaker\"],\n",
        "    \"Fox_News_themes\": [\"violent\", \"woke\", \", D-\", \", R-\"],\n",
        "    \"People_themes\": [\"best\", \"exclusive\", \"new\", \"photos\"],\n",
        "    \"Politio_themes\": [\"signal\", \"clear\", \"maneuver\", \"advance\"],\n",
        "    \"The_Hill_themes\": [\"hearing\", \"midterm\", \"briefing\", \"aide\", \"committee\", \"chair\", \"\"],\n",
        "    \"NYTimes_themes\": [\"Mr.\", \"Ms.\", \"Dr.\", \"Broadway\"]\n",
        "}"
      ],
      "metadata": {
        "id": "z9hZlu4d9E7i"
      },
      "execution_count": 76,
      "outputs": []
    },
    {
      "cell_type": "code",
      "source": [
        "def extract_features(text):\n",
        "    return [int(any(kw in text for kw in keywords)) for keywords in feature_keywords.values()]\n",
        "train_df[\"features\"] = train_df[\"clean_article\"].apply(extract_features)\n",
        "test_df[\"features\"] = test_df[\"clean_article\"].apply(extract_features)"
      ],
      "metadata": {
        "id": "_GXCYvKk_h14"
      },
      "execution_count": 77,
      "outputs": []
    },
    {
      "cell_type": "code",
      "source": [
        "# Turn feature list into DataFrame\n",
        "X_train = pd.DataFrame(train_df[\"features\"].tolist(), columns=feature_keywords.keys())\n",
        "y_train = train_df[\"publication\"]\n",
        "X_test = pd.DataFrame(test_df[\"features\"].tolist(), columns=feature_keywords.keys())\n",
        "y_test = test_df[\"publication\"]\n",
        "\n",
        "# Train decision tree classifier\n",
        "clf = DecisionTreeClassifier(max_depth=5, random_state=42)\n",
        "clf.fit(X_train, y_train)\n",
        "\n",
        "# Evaluate\n",
        "y_pred = clf.predict(X_test)\n",
        "print(classification_report(y_test, y_pred))"
      ],
      "metadata": {
        "colab": {
          "base_uri": "https://localhost:8080/"
        },
        "id": "9ZvPpBo1Dc4O",
        "outputId": "da937def-846b-424b-895c-b7da71aad826"
      },
      "execution_count": 78,
      "outputs": [
        {
          "output_type": "stream",
          "name": "stdout",
          "text": [
            "                    precision    recall  f1-score   support\n",
            "\n",
            "     Buzzfeed News       0.00      0.00      0.00      1000\n",
            "               CNN       0.00      0.00      0.00      1000\n",
            "         Economist       0.47      0.17      0.25      1000\n",
            "          Fox News       0.00      0.00      0.00      1000\n",
            "            People       0.16      0.71      0.26      1000\n",
            "          Politico       0.31      0.46      0.37      1000\n",
            "           Reuters       0.00      0.00      0.00      1000\n",
            "          The Hill       0.35      0.56      0.43      1000\n",
            "The New York Times       0.63      0.59      0.61      1000\n",
            "              Vice       0.30      0.37      0.33      1000\n",
            "\n",
            "          accuracy                           0.29     10000\n",
            "         macro avg       0.22      0.29      0.23     10000\n",
            "      weighted avg       0.22      0.29      0.23     10000\n",
            "\n"
          ]
        }
      ]
    }
  ],
  "metadata": {
    "kernelspec": {
      "display_name": "Python 3",
      "language": "python",
      "name": "python3"
    },
    "language_info": {
      "codemirror_mode": {
        "name": "ipython",
        "version": 3
      },
      "file_extension": ".py",
      "mimetype": "text/x-python",
      "name": "python",
      "nbconvert_exporter": "python",
      "pygments_lexer": "ipython3",
      "version": "3.12.5"
    },
    "colab": {
      "provenance": []
    }
  },
  "nbformat": 4,
  "nbformat_minor": 0
}