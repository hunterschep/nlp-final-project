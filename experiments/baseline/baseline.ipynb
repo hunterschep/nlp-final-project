{
 "cells": [
  {
   "cell_type": "markdown",
   "id": "c13c582c",
   "metadata": {},
   "source": [
    "#### Baselines \n",
    "\n",
    "Trying out some simple baselines and a rule based classifier "
   ]
  },
  {
   "cell_type": "code",
   "execution_count": 3,
   "id": "a0f35d1a",
   "metadata": {},
   "outputs": [],
   "source": [
    "import pandas as pd\n",
    "import numpy as np\n",
    "from sklearn.naive_bayes import GaussianNB\n",
    "from sklearn.svm import LinearSVC\n",
    "from sklearn.neighbors import KNeighborsClassifier\n",
    "from sklearn.model_selection import cross_validate\n",
    "from sklearn.dummy import DummyClassifier\n",
    "from sklearn import metrics\n",
    "from sklearn.metrics import (\n",
    "    accuracy_score,\n",
    "    precision_score,\n",
    "    recall_score,\n",
    "    f1_score,\n",
    "    classification_report,\n",
    "    confusion_matrix\n",
    ")\n",
    "import re, random\n",
    "from collections import Counter"
   ]
  },
  {
   "cell_type": "code",
   "execution_count": null,
   "id": "3d9b6b2c",
   "metadata": {},
   "outputs": [],
   "source": [
    "# read in data\n",
    "DATA_PATH = \"../../data/all-the-news-2-1-SMALL-CLEANED.csv\"\n",
    "df = pd.read_csv(DATA_PATH)\n",
    "# Define features and labels\n",
    "X = df[\"clean_article\"]         # The news articles\n",
    "y = df[\"publication\"]     # The publishers (labels)\n"
   ]
  },
  {
   "cell_type": "code",
   "execution_count": 5,
   "id": "d2e59ce2",
   "metadata": {},
   "outputs": [
    {
     "name": "stdout",
     "output_type": "stream",
     "text": [
      "--- Strategy: most_frequent ---\n"
     ]
    },
    {
     "name": "stderr",
     "output_type": "stream",
     "text": [
      "C:\\Users\\gpete\\AppData\\Local\\Packages\\PythonSoftwareFoundation.Python.3.10_qbz5n2kfra8p0\\LocalCache\\local-packages\\Python310\\site-packages\\sklearn\\metrics\\_classification.py:1565: UndefinedMetricWarning: Precision is ill-defined and being set to 0.0 in labels with no predicted samples. Use `zero_division` parameter to control this behavior.\n",
      "  _warn_prf(average, modifier, f\"{metric.capitalize()} is\", len(result))\n",
      "C:\\Users\\gpete\\AppData\\Local\\Packages\\PythonSoftwareFoundation.Python.3.10_qbz5n2kfra8p0\\LocalCache\\local-packages\\Python310\\site-packages\\sklearn\\metrics\\_classification.py:1565: UndefinedMetricWarning: Precision is ill-defined and being set to 0.0 in labels with no predicted samples. Use `zero_division` parameter to control this behavior.\n",
      "  _warn_prf(average, modifier, f\"{metric.capitalize()} is\", len(result))\n",
      "C:\\Users\\gpete\\AppData\\Local\\Packages\\PythonSoftwareFoundation.Python.3.10_qbz5n2kfra8p0\\LocalCache\\local-packages\\Python310\\site-packages\\sklearn\\metrics\\_classification.py:1565: UndefinedMetricWarning: Precision is ill-defined and being set to 0.0 in labels with no predicted samples. Use `zero_division` parameter to control this behavior.\n",
      "  _warn_prf(average, modifier, f\"{metric.capitalize()} is\", len(result))\n",
      "C:\\Users\\gpete\\AppData\\Local\\Packages\\PythonSoftwareFoundation.Python.3.10_qbz5n2kfra8p0\\LocalCache\\local-packages\\Python310\\site-packages\\sklearn\\metrics\\_classification.py:1565: UndefinedMetricWarning: Precision is ill-defined and being set to 0.0 in labels with no predicted samples. Use `zero_division` parameter to control this behavior.\n",
      "  _warn_prf(average, modifier, f\"{metric.capitalize()} is\", len(result))\n",
      "C:\\Users\\gpete\\AppData\\Local\\Packages\\PythonSoftwareFoundation.Python.3.10_qbz5n2kfra8p0\\LocalCache\\local-packages\\Python310\\site-packages\\sklearn\\metrics\\_classification.py:1565: UndefinedMetricWarning: Precision is ill-defined and being set to 0.0 in labels with no predicted samples. Use `zero_division` parameter to control this behavior.\n",
      "  _warn_prf(average, modifier, f\"{metric.capitalize()} is\", len(result))\n"
     ]
    },
    {
     "name": "stdout",
     "output_type": "stream",
     "text": [
      "fit_time: 0.02360363006591797\n",
      "score_time: 0.12673234939575195\n",
      "test_accuracy: 0.1\n",
      "test_precision_macro: 0.01\n",
      "test_recall_macro: 0.1\n",
      "test_f1_macro: 0.01818181818181818\n",
      "\n",
      "--- Strategy: stratified ---\n",
      "fit_time: 0.022503185272216796\n",
      "score_time: 0.14541869163513182\n",
      "test_accuracy: 0.0982\n",
      "test_precision_macro: 0.09821202435466034\n",
      "test_recall_macro: 0.09820000000000001\n",
      "test_f1_macro: 0.09819609169624727\n",
      "\n",
      "--- Strategy: uniform ---\n",
      "fit_time: 0.02249875068664551\n",
      "score_time: 0.14110960960388183\n",
      "test_accuracy: 0.10264999999999999\n",
      "test_precision_macro: 0.10261707377007004\n",
      "test_recall_macro: 0.10264999999999999\n",
      "test_f1_macro: 0.10262713172068871\n",
      "\n"
     ]
    }
   ],
   "source": [
    "# Update scoring metrics for multiclass classification using \"macro\" averaging\n",
    "scoring_metrics = ['accuracy', 'precision_macro', 'recall_macro', 'f1_macro']\n",
    "\n",
    "# Loop through the dummy classifier strategies:\n",
    "# - \"most_frequent\": always predicts the most common class.\n",
    "# - \"stratified\": random predictions following the training set's class distribution.\n",
    "# - \"uniform\": completely random predictions.\n",
    "for strategy in [\"most_frequent\", \"stratified\", \"uniform\"]:\n",
    "    print(f\"--- Strategy: {strategy} ---\")\n",
    "    \n",
    "    # Initialize the dummy classifier with the current strategy\n",
    "    dummy_classifier = DummyClassifier(strategy=strategy, random_state=42)\n",
    "    \n",
    "    # Run 5-fold cross-validation\n",
    "    scores = cross_validate(dummy_classifier, X, y, cv=5, scoring=scoring_metrics)\n",
    "    \n",
    "    # Print the mean of each scoring metric across folds\n",
    "    for metric, score in scores.items():\n",
    "        print(f\"{metric}: {score.mean()}\")\n",
    "    print()"
   ]
  }
 ],
 "metadata": {
  "kernelspec": {
   "display_name": "Python 3",
   "language": "python",
   "name": "python3"
  },
  "language_info": {
   "codemirror_mode": {
    "name": "ipython",
    "version": 3
   },
   "file_extension": ".py",
   "mimetype": "text/x-python",
   "name": "python",
   "nbconvert_exporter": "python",
   "pygments_lexer": "ipython3",
   "version": "3.10.11"
  }
 },
 "nbformat": 4,
 "nbformat_minor": 5
}
