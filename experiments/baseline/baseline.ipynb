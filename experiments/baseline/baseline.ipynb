{
 "cells": [
  {
   "cell_type": "code",
   "execution_count": 4,
   "id": "a0f35d1a",
   "metadata": {},
   "outputs": [
    {
     "name": "stdout",
     "output_type": "stream",
     "text": [
      "Looking in indexes: https://pypi.org/simple, https://pypi.ngc.nvidia.com\n",
      "Collecting scikit-learn\n",
      "  Downloading scikit_learn-1.6.1-cp310-cp310-win_amd64.whl.metadata (15 kB)\n",
      "Requirement already satisfied: numpy>=1.19.5 in c:\\users\\gpete\\appdata\\local\\packages\\pythonsoftwarefoundation.python.3.10_qbz5n2kfra8p0\\localcache\\local-packages\\python310\\site-packages (from scikit-learn) (1.26.1)\n",
      "Collecting scipy>=1.6.0 (from scikit-learn)\n",
      "  Downloading scipy-1.15.2-cp310-cp310-win_amd64.whl.metadata (60 kB)\n",
      "Requirement already satisfied: joblib>=1.2.0 in c:\\users\\gpete\\appdata\\local\\packages\\pythonsoftwarefoundation.python.3.10_qbz5n2kfra8p0\\localcache\\local-packages\\python310\\site-packages (from scikit-learn) (1.3.2)\n",
      "Collecting threadpoolctl>=3.1.0 (from scikit-learn)\n",
      "  Downloading threadpoolctl-3.6.0-py3-none-any.whl.metadata (13 kB)\n",
      "Downloading scikit_learn-1.6.1-cp310-cp310-win_amd64.whl (11.1 MB)\n",
      "   ---------------------------------------- 0.0/11.1 MB ? eta -:--:--\n",
      "   ---------------- ----------------------- 4.7/11.1 MB 23.7 MB/s eta 0:00:01\n",
      "   ------------------------------------- -- 10.5/11.1 MB 26.1 MB/s eta 0:00:01\n",
      "   ---------------------------------------- 11.1/11.1 MB 26.7 MB/s eta 0:00:00\n",
      "Downloading scipy-1.15.2-cp310-cp310-win_amd64.whl (41.2 MB)\n",
      "   ---------------------------------------- 0.0/41.2 MB ? eta -:--:--\n",
      "   ----- ---------------------------------- 5.2/41.2 MB 24.5 MB/s eta 0:00:02\n",
      "   ----------- ---------------------------- 11.5/41.2 MB 27.8 MB/s eta 0:00:02\n",
      "   ----------------- ---------------------- 17.6/41.2 MB 27.7 MB/s eta 0:00:01\n",
      "   -------------------- ------------------- 21.2/41.2 MB 24.8 MB/s eta 0:00:01\n",
      "   -------------------------- ------------- 27.0/41.2 MB 25.2 MB/s eta 0:00:01\n",
      "   -------------------------------- ------- 33.0/41.2 MB 25.9 MB/s eta 0:00:01\n",
      "   ------------------------------------- -- 39.1/41.2 MB 26.1 MB/s eta 0:00:01\n",
      "   ---------------------------------------- 41.2/41.2 MB 26.2 MB/s eta 0:00:00\n",
      "Downloading threadpoolctl-3.6.0-py3-none-any.whl (18 kB)\n",
      "Installing collected packages: threadpoolctl, scipy, scikit-learn\n",
      "Successfully installed scikit-learn-1.6.1 scipy-1.15.2 threadpoolctl-3.6.0\n"
     ]
    }
   ],
   "source": [
    "!pip install scikit-learn\n",
    "\n",
    "import pandas as pd\n",
    "import numpy as np\n",
    "from sklearn.naive_bayes import GaussianNB\n",
    "from sklearn.svm import LinearSVC\n",
    "from sklearn.neighbors import KNeighborsClassifier\n",
    "from sklearn.model_selection import cross_validate\n",
    "from sklearn.dummy import DummyClassifier\n",
    "from sklearn import metrics"
   ]
  },
  {
   "cell_type": "code",
   "execution_count": 7,
   "id": "3d9b6b2c",
   "metadata": {},
   "outputs": [],
   "source": [
    "df = pd.read_csv(\"all-the-news-2-1-SMALL.csv\")\n",
    "# Define features and labels\n",
    "X = df[\"article\"]         # The news articles\n",
    "y = df[\"publication\"]     # The publishers (labels)\n"
   ]
  },
  {
   "cell_type": "code",
   "execution_count": 8,
   "id": "d2e59ce2",
   "metadata": {},
   "outputs": [
    {
     "name": "stdout",
     "output_type": "stream",
     "text": [
      "--- Strategy: most_frequent ---\n"
     ]
    },
    {
     "name": "stderr",
     "output_type": "stream",
     "text": [
      "C:\\Users\\gpete\\AppData\\Local\\Packages\\PythonSoftwareFoundation.Python.3.10_qbz5n2kfra8p0\\LocalCache\\local-packages\\Python310\\site-packages\\sklearn\\metrics\\_classification.py:1565: UndefinedMetricWarning: Precision is ill-defined and being set to 0.0 in labels with no predicted samples. Use `zero_division` parameter to control this behavior.\n",
      "  _warn_prf(average, modifier, f\"{metric.capitalize()} is\", len(result))\n",
      "C:\\Users\\gpete\\AppData\\Local\\Packages\\PythonSoftwareFoundation.Python.3.10_qbz5n2kfra8p0\\LocalCache\\local-packages\\Python310\\site-packages\\sklearn\\metrics\\_classification.py:1565: UndefinedMetricWarning: Precision is ill-defined and being set to 0.0 in labels with no predicted samples. Use `zero_division` parameter to control this behavior.\n",
      "  _warn_prf(average, modifier, f\"{metric.capitalize()} is\", len(result))\n",
      "C:\\Users\\gpete\\AppData\\Local\\Packages\\PythonSoftwareFoundation.Python.3.10_qbz5n2kfra8p0\\LocalCache\\local-packages\\Python310\\site-packages\\sklearn\\metrics\\_classification.py:1565: UndefinedMetricWarning: Precision is ill-defined and being set to 0.0 in labels with no predicted samples. Use `zero_division` parameter to control this behavior.\n",
      "  _warn_prf(average, modifier, f\"{metric.capitalize()} is\", len(result))\n",
      "C:\\Users\\gpete\\AppData\\Local\\Packages\\PythonSoftwareFoundation.Python.3.10_qbz5n2kfra8p0\\LocalCache\\local-packages\\Python310\\site-packages\\sklearn\\metrics\\_classification.py:1565: UndefinedMetricWarning: Precision is ill-defined and being set to 0.0 in labels with no predicted samples. Use `zero_division` parameter to control this behavior.\n",
      "  _warn_prf(average, modifier, f\"{metric.capitalize()} is\", len(result))\n",
      "C:\\Users\\gpete\\AppData\\Local\\Packages\\PythonSoftwareFoundation.Python.3.10_qbz5n2kfra8p0\\LocalCache\\local-packages\\Python310\\site-packages\\sklearn\\metrics\\_classification.py:1565: UndefinedMetricWarning: Precision is ill-defined and being set to 0.0 in labels with no predicted samples. Use `zero_division` parameter to control this behavior.\n",
      "  _warn_prf(average, modifier, f\"{metric.capitalize()} is\", len(result))\n"
     ]
    },
    {
     "name": "stdout",
     "output_type": "stream",
     "text": [
      "fit_time: 0.06433839797973633\n",
      "score_time: 0.3180974006652832\n",
      "test_accuracy: 0.1\n",
      "test_precision_macro: 0.01\n",
      "test_recall_macro: 0.1\n",
      "test_f1_macro: 0.01818181818181818\n",
      "\n",
      "--- Strategy: stratified ---\n",
      "fit_time: 0.05701079368591309\n",
      "score_time: 0.3698692798614502\n",
      "test_accuracy: 0.09793333333333333\n",
      "test_precision_macro: 0.09794154913764777\n",
      "test_recall_macro: 0.09793333333333333\n",
      "test_f1_macro: 0.09793363560726645\n",
      "\n",
      "--- Strategy: uniform ---\n",
      "fit_time: 0.05061945915222168\n",
      "score_time: 0.3262462615966797\n",
      "test_accuracy: 0.10183333333333333\n",
      "test_precision_macro: 0.10183089007818288\n",
      "test_recall_macro: 0.10183333333333333\n",
      "test_f1_macro: 0.10182949004305222\n",
      "\n"
     ]
    }
   ],
   "source": [
    "# Update scoring metrics for multiclass classification using \"macro\" averaging\n",
    "scoring_metrics = ['accuracy', 'precision_macro', 'recall_macro', 'f1_macro']\n",
    "\n",
    "# Loop through the dummy classifier strategies:\n",
    "# - \"most_frequent\": always predicts the most common class.\n",
    "# - \"stratified\": random predictions following the training set's class distribution.\n",
    "# - \"uniform\": completely random predictions.\n",
    "for strategy in [\"most_frequent\", \"stratified\", \"uniform\"]:\n",
    "    print(f\"--- Strategy: {strategy} ---\")\n",
    "    \n",
    "    # Initialize the dummy classifier with the current strategy\n",
    "    dummy_classifier = DummyClassifier(strategy=strategy, random_state=42)\n",
    "    \n",
    "    # Run 5-fold cross-validation\n",
    "    scores = cross_validate(dummy_classifier, X, y, cv=5, scoring=scoring_metrics)\n",
    "    \n",
    "    # Print the mean of each scoring metric across folds\n",
    "    for metric, score in scores.items():\n",
    "        print(f\"{metric}: {score.mean()}\")\n",
    "    print()"
   ]
  }
 ],
 "metadata": {
  "kernelspec": {
   "display_name": "Python 3",
   "language": "python",
   "name": "python3"
  },
  "language_info": {
   "codemirror_mode": {
    "name": "ipython",
    "version": 3
   },
   "file_extension": ".py",
   "mimetype": "text/x-python",
   "name": "python",
   "nbconvert_exporter": "python",
   "pygments_lexer": "ipython3",
   "version": "3.10.11"
  }
 },
 "nbformat": 4,
 "nbformat_minor": 5
}
