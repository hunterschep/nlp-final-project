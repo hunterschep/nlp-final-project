{
 "cells": [
  {
   "cell_type": "markdown",
   "metadata": {},
   "source": [
    "## Trim of the original all the news dataset"
   ]
  },
  {
   "cell_type": "code",
   "execution_count": 8,
   "metadata": {},
   "outputs": [],
   "source": [
    "import polars as pl"
   ]
  },
  {
   "cell_type": "code",
   "execution_count": 9,
   "metadata": {},
   "outputs": [],
   "source": [
    "# Load the dataset\n",
    "df = pl.read_csv(\"all-the-news-2-1-LARGE.csv\")"
   ]
  },
  {
   "cell_type": "code",
   "execution_count": 12,
   "metadata": {},
   "outputs": [],
   "source": [
    "# Define target sources and their desired counts\n",
    "target_counts = {\n",
    "    \"The New York Times\": 15000,\n",
    "    \"The Hill\": 15000,\n",
    "    \"Reuters\": 15000,\n",
    "    \"People\": 15000,\n",
    "    \"CNN\": 15000,\n",
    "    \"Vice\": 15000,\n",
    "    \"Politico\": 15000,\n",
    "    \"Buzzfeed News\": 15000,\n",
    "    \"Economist\": 15000,\n",
    "    \"Fox News\": 15000,\n",
    "}\n",
    "\n",
    "# Filter to only target sources\n",
    "df = df.filter(pl.col(\"publication\").is_in(list(target_counts.keys())))\n",
    "\n",
    "# remove articles with length 0 or null \n",
    "df = df.filter(pl.col(\"article\").is_not_null())\n",
    "\n",
    "# Compute 5th and 95th percentiles of article length\n",
    "article_lengths = df.select(pl.col(\"article\").str.len_chars().alias(\"length\"))\n",
    "\n",
    "lower_bound = article_lengths.select(pl.col(\"length\").quantile(0.05)).item()\n",
    "upper_bound = article_lengths.select(pl.col(\"length\").quantile(0.95)).item()\n",
    "\n",
    "# Filter based on these quantiles\n",
    "df = df.with_columns([\n",
    "    pl.col(\"article\").str.len_chars().alias(\"article_length\")\n",
    "]).filter(\n",
    "    (pl.col(\"article_length\") > lower_bound) & (pl.col(\"article_length\") < upper_bound)\n",
    ").drop(\"article_length\")"
   ]
  },
  {
   "cell_type": "code",
   "execution_count": 13,
   "metadata": {},
   "outputs": [],
   "source": [
    "# Remove any article with chinese characters in the title \n",
    "df = df.filter(~pl.col(\"title\").str.contains(r\"[\\u4e00-\\u9fff]\"))"
   ]
  },
  {
   "cell_type": "code",
   "execution_count": 14,
   "metadata": {},
   "outputs": [
    {
     "name": "stdout",
     "output_type": "stream",
     "text": [
      "shape: (10, 2)\n",
      "┌────────────────────┬───────┐\n",
      "│ publication        ┆ count │\n",
      "│ ---                ┆ ---   │\n",
      "│ str                ┆ u32   │\n",
      "╞════════════════════╪═══════╡\n",
      "│ Reuters            ┆ 15000 │\n",
      "│ People             ┆ 15000 │\n",
      "│ Economist          ┆ 15000 │\n",
      "│ Buzzfeed News      ┆ 15000 │\n",
      "│ Politico           ┆ 15000 │\n",
      "│ CNN                ┆ 15000 │\n",
      "│ Fox News           ┆ 15000 │\n",
      "│ The New York Times ┆ 15000 │\n",
      "│ Vice               ┆ 15000 │\n",
      "│ The Hill           ┆ 15000 │\n",
      "└────────────────────┴───────┘\n"
     ]
    },
    {
     "name": "stderr",
     "output_type": "stream",
     "text": [
      "/var/folders/kr/nlrwk4z12mj5x_srmfby65p40000gn/T/ipykernel_8852/785617648.py:17: DeprecationWarning: `GroupBy.count` is deprecated. It has been renamed to `len`.\n",
      "  .count()\n"
     ]
    }
   ],
   "source": [
    "# Downsample by longest articles for each publication\n",
    "filtered_parts = []\n",
    "\n",
    "for pub, target_size in target_counts.items():\n",
    "    pub_df = (\n",
    "        df.filter(pl.col(\"publication\") == pub)\n",
    "          .head(target_size)\n",
    "    )\n",
    "    filtered_parts.append(pub_df)\n",
    "\n",
    "# Combine all filtered parts\n",
    "trimmed_df = pl.concat(filtered_parts)\n",
    "\n",
    "# Group and count by publication\n",
    "final_counts = (\n",
    "    trimmed_df.group_by(\"publication\")\n",
    "              .count()\n",
    "              .sort(\"count\", descending=True)\n",
    ")\n",
    "\n",
    "# Print results\n",
    "print(final_counts)"
   ]
  },
  {
   "cell_type": "code",
   "execution_count": null,
   "metadata": {},
   "outputs": [],
   "source": [
    "trimmed_df.write_csv(\"all-the-news-2-1-SMALL.csv\")"
   ]
  },
  {
   "cell_type": "code",
   "execution_count": null,
   "metadata": {},
   "outputs": [],
   "source": []
  }
 ],
 "metadata": {
  "kernelspec": {
   "display_name": "Python 3",
   "language": "python",
   "name": "python3"
  },
  "language_info": {
   "codemirror_mode": {
    "name": "ipython",
    "version": 3
   },
   "file_extension": ".py",
   "mimetype": "text/x-python",
   "name": "python",
   "nbconvert_exporter": "python",
   "pygments_lexer": "ipython3",
   "version": "3.12.5"
  }
 },
 "nbformat": 4,
 "nbformat_minor": 2
}
