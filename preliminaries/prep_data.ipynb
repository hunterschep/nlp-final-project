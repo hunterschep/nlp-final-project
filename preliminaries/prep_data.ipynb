{
 "cells": [
  {
   "cell_type": "markdown",
   "metadata": {},
   "source": [
    "# Preliminaries \n",
    "\n",
    "The `all-the-news` dataset is really quite nice and has a **TON** of data, this is actually a problem. We address this and other issues in this notebook: \n",
    "\n",
    "* We trim the dataset down from 2.1M rows to a much more manageable 150k rows \n",
    "* We filter out the 10% longest and 10% shortest articles (These are usually either transcripts or had a scraping error)\n",
    "* Also we remove Chinese (some of the articles are non English)\n",
    "* We assign a train test split that is representative of each publication \n",
    "* We remove some words that would be considered cheating like publication names, author names, and urls. If we are just learning to recognize keywords from a source like \"NYT\" or nyt.com in the body of an article - we aren't actually learning anything beyond a rule based approach! "
   ]
  },
  {
   "cell_type": "markdown",
   "metadata": {},
   "source": [
    "#### 1.) Downsize the data"
   ]
  },
  {
   "cell_type": "code",
   "execution_count": 1,
   "metadata": {},
   "outputs": [],
   "source": [
    "import polars as pl\n",
    "import random\n",
    "import re \n",
    "import spacy\n",
    "from tqdm import tqdm"
   ]
  },
  {
   "cell_type": "code",
   "execution_count": 2,
   "metadata": {},
   "outputs": [],
   "source": [
    "# Load the dataset\n",
    "df = pl.read_csv(\"all-the-news-2-1-LARGE.csv\")"
   ]
  },
  {
   "cell_type": "code",
   "execution_count": 3,
   "metadata": {},
   "outputs": [],
   "source": [
    "# Define target sources and their desired counts\n",
    "target_counts = {\n",
    "    \"The New York Times\": 10000,\n",
    "    \"The Hill\": 10000,\n",
    "    \"Reuters\": 10000,\n",
    "    \"People\": 10000,\n",
    "    \"CNN\": 10000,\n",
    "    \"Vice\": 10000,\n",
    "    \"Politico\": 10000,\n",
    "    \"Buzzfeed News\": 10000,\n",
    "    \"Economist\": 10000,\n",
    "    \"Fox News\": 10000,\n",
    "}\n",
    "\n",
    "# Filter to only target sources\n",
    "df = df.filter(pl.col(\"publication\").is_in(list(target_counts.keys())))\n",
    "\n",
    "# remove articles with length 0 or null \n",
    "df = df.filter(pl.col(\"article\").is_not_null())\n",
    "\n",
    "lower_bound = 800\n",
    "upper_bound = 6000\n",
    "\n",
    "# Filter based on these quantiles\n",
    "df = df.with_columns([\n",
    "    pl.col(\"article\").str.len_chars().alias(\"article_length\")\n",
    "]).filter(\n",
    "    (pl.col(\"article_length\") > lower_bound) & (pl.col(\"article_length\") < upper_bound)\n",
    ").drop(\"article_length\")"
   ]
  },
  {
   "cell_type": "markdown",
   "metadata": {},
   "source": [
    "#### 1b.) Quick fix to remove Chinese "
   ]
  },
  {
   "cell_type": "code",
   "execution_count": 4,
   "metadata": {},
   "outputs": [],
   "source": [
    "# Remove any article with Chinese characters in the title \n",
    "df = df.filter(~pl.col(\"title\").str.contains(r\"[\\u4e00-\\u9fff]\"))"
   ]
  },
  {
   "cell_type": "code",
   "execution_count": 5,
   "metadata": {},
   "outputs": [
    {
     "name": "stdout",
     "output_type": "stream",
     "text": [
      "shape: (10, 2)\n",
      "┌────────────────────┬───────┐\n",
      "│ publication        ┆ count │\n",
      "│ ---                ┆ ---   │\n",
      "│ str                ┆ u32   │\n",
      "╞════════════════════╪═══════╡\n",
      "│ The Hill           ┆ 10000 │\n",
      "│ The New York Times ┆ 10000 │\n",
      "│ Buzzfeed News      ┆ 10000 │\n",
      "│ Reuters            ┆ 10000 │\n",
      "│ CNN                ┆ 10000 │\n",
      "│ Economist          ┆ 10000 │\n",
      "│ Vice               ┆ 10000 │\n",
      "│ Fox News           ┆ 10000 │\n",
      "│ People             ┆ 10000 │\n",
      "│ Politico           ┆ 10000 │\n",
      "└────────────────────┴───────┘\n"
     ]
    },
    {
     "name": "stderr",
     "output_type": "stream",
     "text": [
      "/var/folders/kr/nlrwk4z12mj5x_srmfby65p40000gn/T/ipykernel_5528/785617648.py:17: DeprecationWarning: `GroupBy.count` is deprecated. It has been renamed to `len`.\n",
      "  .count()\n"
     ]
    }
   ],
   "source": [
    "# Downsample by longest articles for each publication\n",
    "filtered_parts = []\n",
    "\n",
    "for pub, target_size in target_counts.items():\n",
    "    pub_df = (\n",
    "        df.filter(pl.col(\"publication\") == pub)\n",
    "          .head(target_size)\n",
    "    )\n",
    "    filtered_parts.append(pub_df)\n",
    "\n",
    "# Combine all filtered parts\n",
    "trimmed_df = pl.concat(filtered_parts)\n",
    "\n",
    "# Group and count by publication\n",
    "final_counts = (\n",
    "    trimmed_df.group_by(\"publication\")\n",
    "              .count()\n",
    "              .sort(\"count\", descending=True)\n",
    ")\n",
    "\n",
    "# Print results\n",
    "print(final_counts)"
   ]
  },
  {
   "cell_type": "markdown",
   "metadata": {},
   "source": [
    "#### 2.) Split into train and test segments"
   ]
  },
  {
   "cell_type": "code",
   "execution_count": 6,
   "metadata": {},
   "outputs": [],
   "source": [
    "import polars as pl\n",
    "import numpy as np\n",
    "\n",
    "random_state = 42\n",
    "np.random.seed(random_state)\n",
    "\n",
    "def assign_splits(group: pl.DataFrame) -> pl.DataFrame:\n",
    "    n = len(group)\n",
    "    indices = np.random.permutation(n)  # Shuffle indices\n",
    "    split = np.where(indices < 1000, \"test\", \"train\")  # Assign first 1k as test\n",
    "    return group.with_columns(pl.Series(\"split\", split))\n",
    "\n",
    "# Apply to each group\n",
    "trimmed_df = (\n",
    "    trimmed_df\n",
    "    .group_by(\"publication\", maintain_order=True)\n",
    "    .map_groups(assign_splits)\n",
    ")"
   ]
  },
  {
   "cell_type": "code",
   "execution_count": 7,
   "metadata": {},
   "outputs": [
    {
     "name": "stdout",
     "output_type": "stream",
     "text": [
      "shape: (20, 3)\n",
      "┌────────────────────┬───────┬───────┐\n",
      "│ publication        ┆ split ┆ count │\n",
      "│ ---                ┆ ---   ┆ ---   │\n",
      "│ str                ┆ str   ┆ u32   │\n",
      "╞════════════════════╪═══════╪═══════╡\n",
      "│ Buzzfeed News      ┆ test  ┆ 1000  │\n",
      "│ Buzzfeed News      ┆ train ┆ 9000  │\n",
      "│ CNN                ┆ test  ┆ 1000  │\n",
      "│ CNN                ┆ train ┆ 9000  │\n",
      "│ Economist          ┆ test  ┆ 1000  │\n",
      "│ …                  ┆ …     ┆ …     │\n",
      "│ The Hill           ┆ train ┆ 9000  │\n",
      "│ The New York Times ┆ test  ┆ 1000  │\n",
      "│ The New York Times ┆ train ┆ 9000  │\n",
      "│ Vice               ┆ test  ┆ 1000  │\n",
      "│ Vice               ┆ train ┆ 9000  │\n",
      "└────────────────────┴───────┴───────┘\n"
     ]
    },
    {
     "name": "stderr",
     "output_type": "stream",
     "text": [
      "/var/folders/kr/nlrwk4z12mj5x_srmfby65p40000gn/T/ipykernel_5528/167683159.py:4: DeprecationWarning: `pl.count()` is deprecated. Please use `pl.len()` instead.\n",
      "  .agg(pl.count())\n"
     ]
    }
   ],
   "source": [
    "print(\n",
    "    trimmed_df\n",
    "    .group_by(\"publication\", \"split\")\n",
    "    .agg(pl.count())\n",
    "    .sort(\"publication\", \"split\")\n",
    ")"
   ]
  },
  {
   "cell_type": "code",
   "execution_count": 8,
   "metadata": {},
   "outputs": [],
   "source": [
    "trimmed_df.write_csv(\"all-the-news-2-1-SMALL.csv\")"
   ]
  },
  {
   "cell_type": "markdown",
   "metadata": {},
   "source": [
    "#### 3.) Clean the data"
   ]
  },
  {
   "cell_type": "code",
   "execution_count": null,
   "metadata": {},
   "outputs": [],
   "source": []
  },
  {
   "cell_type": "code",
   "execution_count": 9,
   "metadata": {},
   "outputs": [
    {
     "name": "stderr",
     "output_type": "stream",
     "text": [
      "/Users/hunterschep/.pyenv/versions/3.12.5/lib/python3.12/site-packages/tqdm/auto.py:21: TqdmWarning: IProgress not found. Please update jupyter and ipywidgets. See https://ipywidgets.readthedocs.io/en/stable/user_install.html\n",
      "  from .autonotebook import tqdm as notebook_tqdm\n",
      "Cleaning:   0%|          | 0/100000 [00:00<?, ?row/s]/var/folders/kr/nlrwk4z12mj5x_srmfby65p40000gn/T/ipykernel_5528/3921435850.py:68: MapWithoutReturnDtypeWarning: Calling `map_elements` without specifying `return_dtype` can lead to unpredictable results. Specify `return_dtype` to silence this warning.\n",
      "  cleaned_df = trimmed_df.with_columns(\n",
      "Cleaning: 100%|██████████| 100000/100000 [00:20<00:00, 4804.55row/s]\n"
     ]
    }
   ],
   "source": [
    "import re, unicodedata, polars as pl\n",
    "from tqdm.auto import tqdm\n",
    "\n",
    "# ---------------------------------------------------------------------\n",
    "# 1.  publisher aliases (unchanged)\n",
    "# ---------------------------------------------------------------------\n",
    "PUB_ALIASES = {\n",
    "    \"Buzzfeed News\": [\n",
    "        \"Buzzfeed News\", \"BuzzFeed News\",\n",
    "        \"BuzzFeed.com\",  \"Buzzfeed.com\", \"BuzzFeed\"\n",
    "    ],\n",
    "    \"Fox News\": [\"Fox News\", \"FoxNews.com\", \"Fox\"],\n",
    "    \"CNN\": [\"CNN\", \"Cable News Network\", \"CNNEspanol\", \"CNNOpinion\"],\n",
    "    \"Reuters\": [\"Reuters\", \"Reuters.com\"],\n",
    "    \"Vice\": [\"VICE\", \"Vice News\", \"Vice.com\"],\n",
    "    \"The New York Times\": [\n",
    "        \"New York Times\", \"The New York Times\", \"NYT\",\n",
    "        \"The Times\", \"NYTimes.com\", \"NY Times\"\n",
    "    ],\n",
    "    \"Politico\": [\"Politico\", \"Politico.com\"],\n",
    "    \"The Hill\": [                       # keep a few stable fragments\n",
    "        \"The Hill\", \"Capitol Hill Publishing Corp\",\n",
    "        \"Capitol Hill Publishing\", \"TheHill.com\"\n",
    "    ],\n",
    "    \"Economist\": [\"The Economist\", \"Economist.com\", \"Economist\", \"Upgrade your inbox and get our Daily Dispatch and Editor's Picks\"],\n",
    "    \"People\":    [\"People Magazine\", \"People\", \"People.com\"]\n",
    "}\n",
    "\n",
    "# ---------------------------------------------------------------------\n",
    "# 2.  build one literal‑safe regex\n",
    "# ---------------------------------------------------------------------\n",
    "aliases_escaped = [\n",
    "    re.escape(a.strip())\n",
    "    for group in PUB_ALIASES.values()\n",
    "    for a in group\n",
    "]\n",
    "\n",
    "pattern = re.compile(\n",
    "    r\"(?i)(?:\\b\" + r\"\\b|\\b\".join(aliases_escaped) + r\")\"\n",
    "    r\"(?:['’]s)?\"\n",
    "    r\"(?=\\b|[^A-Za-z0-9]|$)\"\n",
    ")\n",
    "\n",
    "def regex_clean(text: str) -> str:\n",
    "    return pattern.sub(\"[PUB]\", unicodedata.normalize(\"NFKD\", text))\n",
    "\n",
    "# ---------------------------------------------------------------------\n",
    "# 2.  rule‑based clean (runs before regex/NER)\n",
    "# ---------------------------------------------------------------------\n",
    "def rule_based_clean(text: str, pub: str) -> str:\n",
    "    if pub == \"The Hill\":\n",
    "        text = text[:-230] if len(text) > 230 else \"\"\n",
    "    text = text[25:]                          # drop first 25 chars universally\n",
    "    return text\n",
    "\n",
    "# ---------------------------------------------------------------------\n",
    "# 3.  Polars pipeline\n",
    "#      requires columns \"article\" & \"publication\"\n",
    "# ---------------------------------------------------------------------\n",
    "progress = tqdm(total=len(trimmed_df), desc=\"Cleaning\", unit=\"row\")\n",
    "\n",
    "def _clean(row):\n",
    "    t = rule_based_clean(row[\"article\"], row[\"publication\"])\n",
    "    t = regex_clean(t)        # mask publishers\n",
    "    progress.update()\n",
    "    return t\n",
    "\n",
    "cleaned_df = trimmed_df.with_columns(\n",
    "    pl.struct([\"article\", \"publication\"]).map_elements(_clean).alias(\"clean_article\")\n",
    ")\n",
    "\n",
    "progress.close()"
   ]
  },
  {
   "cell_type": "code",
   "execution_count": 10,
   "metadata": {},
   "outputs": [
    {
     "name": "stderr",
     "output_type": "stream",
     "text": [
      "spaCy PERSON scrub: 100%|██████████| 100000/100000 [22:58<00:00, 72.56doc/s] \n"
     ]
    },
    {
     "name": "stdout",
     "output_type": "stream",
     "text": [
      "Finished: names replaced in 100000 articles\n"
     ]
    }
   ],
   "source": [
    "# ────────────────────────── 4. speed‑up PERSON stripping ──────────────────────────\n",
    "import spacy, os\n",
    "from tqdm.auto import tqdm\n",
    "\n",
    "nlp          = spacy.load(\"en_core_web_sm\", disable=[\"tagger\", \"parser\", \"lemmatizer\"])\n",
    "PLACEHOLDER  = \"[NAME]\"\n",
    "BATCH_SIZE   = 1_000                    # tune for your RAM/CPU\n",
    "N_PROC       = min(4, os.cpu_count())   # spaCy workers (0 = single‑process)\n",
    "\n",
    "def scrub_person(doc) -> str:\n",
    "    \"\"\"Replace all PERSON entities with [NAME] in one Doc.\"\"\"\n",
    "    if not doc.ents:\n",
    "        return doc.text\n",
    "    text, last, out = doc.text, 0, []\n",
    "    for ent in doc.ents:\n",
    "        if ent.label_ == \"PERSON\":\n",
    "            out.append(text[last:ent.start_char])\n",
    "            out.append(PLACEHOLDER)\n",
    "            last = ent.end_char\n",
    "    out.append(text[last:])\n",
    "    return \"\".join(out)\n",
    "\n",
    "# pull the column into Python once\n",
    "texts   = cleaned_df[\"clean_article\"].to_list()\n",
    "total   = len(texts)\n",
    "scrubbed, pbar = [], tqdm(total=total, desc=\"spaCy PERSON scrub\", unit=\"doc\")\n",
    "\n",
    "# stream texts through nlp.pipe (multi‑proc, batched)\n",
    "for doc in nlp.pipe(texts, batch_size=BATCH_SIZE, n_process=N_PROC):\n",
    "    scrubbed.append(scrub_person(doc))\n",
    "    pbar.update()\n",
    "\n",
    "pbar.close()\n",
    "\n",
    "# attach anonymised text back to the DataFrame\n",
    "cleaned_df = cleaned_df.with_columns(\n",
    "    pl.Series(\"anon_article\", scrubbed)      # new column; overwrite if you prefer\n",
    ")\n",
    "\n",
    "print(\"Finished: names replaced in\", total, \"articles\")\n"
   ]
  },
  {
   "cell_type": "code",
   "execution_count": 11,
   "metadata": {},
   "outputs": [],
   "source": [
    "# Remove URLs\n",
    "cleaned_df = cleaned_df.with_columns(\n",
    "    pl.col(\"clean_article\").str.replace_all(r\"https?://\\S+\", \"[URL]\"),\n",
    ")"
   ]
  },
  {
   "cell_type": "code",
   "execution_count": 12,
   "metadata": {},
   "outputs": [
    {
     "name": "stderr",
     "output_type": "stream",
     "text": [
      "/var/folders/kr/nlrwk4z12mj5x_srmfby65p40000gn/T/ipykernel_5528/3536730350.py:5: DeprecationWarning: `pl.count()` is deprecated. Please use `pl.len()` instead.\n",
      "  .agg(pl.count().alias(\"n_articles\"))\n"
     ]
    }
   ],
   "source": [
    "# Step 1: Count how many articles each author appears in\n",
    "author_counts = (\n",
    "    cleaned_df\n",
    "    .group_by(\"author\")\n",
    "    .agg(pl.count().alias(\"n_articles\"))\n",
    "    .filter(pl.col(\"author\").is_not_null())\n",
    ")\n",
    "\n",
    "# Step 2: Identify authors who only appear in one article\n",
    "single_use_authors = (\n",
    "    author_counts\n",
    "    .filter(pl.col(\"n_articles\") == 1)\n",
    "    .get_column(\"author\")\n",
    "    .to_list()\n",
    ")\n",
    "\n",
    "# Step 3: Create a mapping of article to its author (for single-use authors only)\n",
    "author_mapping = (\n",
    "    cleaned_df\n",
    "    .select([\"clean_article\", \"author\"])\n",
    "    .filter(pl.col(\"author\").is_in(single_use_authors))\n",
    ")\n",
    "\n",
    "# Step 4: Remove only the specific author from their own article\n",
    "cleaned_df = cleaned_df.with_columns(\n",
    "    pl.struct([\"clean_article\", \"author\"]).map_elements(\n",
    "        lambda x: x[\"clean_article\"].replace(x[\"author\"], \"[AUTHOR]\") \n",
    "        if x[\"author\"] in single_use_authors \n",
    "        else x[\"clean_article\"],\n",
    "        return_dtype=pl.String\n",
    "    ).alias(\"clean_article\")\n",
    ")"
   ]
  },
  {
   "cell_type": "code",
   "execution_count": 13,
   "metadata": {},
   "outputs": [
    {
     "ename": "SyntaxError",
     "evalue": "expected argument value expression (3743903350.py, line 19)",
     "output_type": "error",
     "traceback": [
      "\u001b[0;36m  Cell \u001b[0;32mIn[13], line 19\u001b[0;36m\u001b[0m\n\u001b[0;31m    sample = cleaned_df.sample(5000, seed=)\u001b[0m\n\u001b[0m                                     ^\u001b[0m\n\u001b[0;31mSyntaxError\u001b[0m\u001b[0;31m:\u001b[0m expected argument value expression\n"
     ]
    }
   ],
   "source": [
    "publications = [\n",
    "    \"The New York Times\",\n",
    "    \"The Hill\",\n",
    "    \"Reuters\",\n",
    "    \"People\",\n",
    "    \"CNN\",\n",
    "    \"Vice\",\n",
    "    \"Politico\",\n",
    "    \"Buzzfeed News\",\n",
    "    \"Economist\",\n",
    "    \"Fox News\",\n",
    "]\n",
    "\n",
    "import textwrap\n",
    "\n",
    "# how many characters of the article to show when a match is found\n",
    "SNIPPET_LEN = 100          # set to None to print the whole thing\n",
    "\n",
    "sample = cleaned_df.sample(5000, seed=)\n",
    "\n",
    "for pub in publications:\n",
    "    # literal‑string search, case‑insensitive\n",
    "    hits = sample.filter(\n",
    "        pl.col(\"clean_article\").str.contains(pub, literal=True)\n",
    "    )\n",
    "\n",
    "    if hits.height:                         # Polars uses .height instead of len()\n",
    "        print(f\"\\n⚠️  Found '{pub}' in {hits.height} rows\")\n",
    "\n",
    "        for i, row in enumerate(hits.select(\"clean_article\").to_series()):\n",
    "            article = row[:SNIPPET_LEN] + \"…\" if SNIPPET_LEN and len(row) > SNIPPET_LEN else row\n",
    "            print(textwrap.indent(f\"[{i+1}] {article}\", prefix=\"    \"))\n",
    "\n"
   ]
  },
  {
   "cell_type": "markdown",
   "metadata": {},
   "source": [
    "#### Sanity check - lets look at average article length"
   ]
  },
  {
   "cell_type": "code",
   "execution_count": 14,
   "metadata": {},
   "outputs": [
    {
     "name": "stdout",
     "output_type": "stream",
     "text": [
      "shape: (10, 5)\n",
      "┌────────────────────┬────────────┬───────────────┬────────────┬────────────┐\n",
      "│ publication        ┆ avg_length ┆ median_length ┆ min_length ┆ max_length │\n",
      "│ ---                ┆ ---        ┆ ---           ┆ ---        ┆ ---        │\n",
      "│ str                ┆ f64        ┆ f64           ┆ u32        ┆ u32        │\n",
      "╞════════════════════╪════════════╪═══════════════╪════════════╪════════════╡\n",
      "│ Economist          ┆ 3837.8693  ┆ 3853.5        ┆ 706        ┆ 5917       │\n",
      "│ The New York Times ┆ 3227.5214  ┆ 3122.0        ┆ 766        ┆ 10799      │\n",
      "│ CNN                ┆ 2998.0659  ┆ 2756.0        ┆ 776        ┆ 5975       │\n",
      "│ Vice               ┆ 2892.182   ┆ 2661.5        ┆ 775        ┆ 5978       │\n",
      "│ Buzzfeed News      ┆ 2882.501   ┆ 2700.0        ┆ 771        ┆ 5969       │\n",
      "│ Politico           ┆ 2857.7932  ┆ 2576.5        ┆ 706        ┆ 5972       │\n",
      "│ Reuters            ┆ 2810.723   ┆ 2621.0        ┆ 774        ┆ 5973       │\n",
      "│ The Hill           ┆ 2611.171   ┆ 2201.0        ┆ 514        ┆ 5739       │\n",
      "│ Fox News           ┆ 2453.6502  ┆ 2207.0        ┆ 755        ┆ 5973       │\n",
      "│ People             ┆ 2363.1796  ┆ 2143.0        ┆ 776        ┆ 5962       │\n",
      "└────────────────────┴────────────┴───────────────┴────────────┴────────────┘\n"
     ]
    }
   ],
   "source": [
    "avg_length = (\n",
    "    cleaned_df\n",
    "    .group_by(\"publication\")\n",
    "    .agg(\n",
    "        pl.col(\"clean_article\").str.len_chars().mean().alias(\"avg_length\"),\n",
    "        pl.col(\"clean_article\").str.len_chars().median().alias(\"median_length\"),\n",
    "        pl.col(\"clean_article\").str.len_chars().min().alias(\"min_length\"),\n",
    "        pl.col(\"clean_article\").str.len_chars().max().alias(\"max_length\")\n",
    "    )\n",
    "    .sort(\"avg_length\", descending=True)\n",
    ")\n",
    "print(avg_length)"
   ]
  },
  {
   "cell_type": "code",
   "execution_count": null,
   "metadata": {},
   "outputs": [],
   "source": [
    "# Drop the original article column\n",
    "cleaned_df = cleaned_df.drop(\"article\")\n",
    "cleaned_df = cleaned_df.drop(\"clean_article\")\n",
    "# Rename the anonymized article column\n",
    "cleaned_df = cleaned_df.rename({\"anon_article\": \"clean_article\"})"
   ]
  },
  {
   "cell_type": "markdown",
   "metadata": {},
   "source": [
    "#### Save our cleaned data! "
   ]
  },
  {
   "cell_type": "code",
   "execution_count": 19,
   "metadata": {},
   "outputs": [],
   "source": [
    "# Save the cleaned DataFrame to a CSV file\n",
    "cleaned_df.write_csv(\"all-the-news-2-1-SMALL-CLEANED.csv\")"
   ]
  },
  {
   "cell_type": "markdown",
   "metadata": {},
   "source": [
    "#### Data Analysis "
   ]
  },
  {
   "cell_type": "code",
   "execution_count": 11,
   "metadata": {},
   "outputs": [
    {
     "data": {
      "image/png": "[encoded data removed]",
      "text/plain": [
       "<Figure size 1200x600 with 1 Axes>"
      ]
     },
     "metadata": {},
     "output_type": "display_data"
    }
   ],
   "source": [
    "import pandas as pd\n",
    "import matplotlib.pyplot as plt\n",
    "\n",
    "# Load the cleaned data\n",
    "cleaned_df = pd.read_csv(\"all-the-news-2-1-SMALL-CLEANED.csv\")\n",
    "\n",
    "# Create word and sentence count columns\n",
    "cleaned_df[\"word_count\"] = cleaned_df[\"clean_article\"].str.split().apply(len)\n",
    "cleaned_df[\"sentence_count\"] = cleaned_df[\"clean_article\"].str.count(r\"[.!?]\")\n",
    "\n",
    "# Group by publication and calculate average stats\n",
    "avg_counts = cleaned_df.groupby(\"publication\")[[\"word_count\", \"sentence_count\"]].mean().reset_index()\n",
    "\n",
    "# Filter for the 10 publications of interest\n",
    "selected_pubs = [\n",
    "    \"Buzzfeed News\", \"CNN\", \"Economist\", \"Fox News\", \"People\",\n",
    "    \"Politico\", \"Reuters\", \"The Hill\", \"The New York Times\", \"Vice\"\n",
    "]\n",
    "avg_counts = avg_counts[avg_counts[\"publication\"].isin(selected_pubs)]\n",
    "\n",
    "# Sort to match original order\n",
    "avg_counts[\"publication\"] = pd.Categorical(avg_counts[\"publication\"], categories=selected_pubs, ordered=True)\n",
    "avg_counts = avg_counts.sort_values(\"publication\")\n",
    "\n",
    "# Calculate overall average word and sentence count\n",
    "overall_avg_words = cleaned_df[\"word_count\"].mean()\n",
    "overall_avg_sentences = cleaned_df[\"sentence_count\"].mean()\n",
    "\n",
    "# Plot\n",
    "plt.figure(figsize=(12, 6))\n",
    "bar_width = 0.4\n",
    "x = range(len(avg_counts))\n",
    "\n",
    "plt.bar([i - bar_width/2 for i in x], avg_counts[\"word_count\"], width=bar_width, label=\"Avg Word Count\")\n",
    "plt.bar([i + bar_width/2 for i in x], avg_counts[\"sentence_count\"], width=bar_width, label=\"Avg Sentence Count\")\n",
    "\n",
    "plt.xticks(ticks=x, labels=avg_counts[\"publication\"], rotation=45, ha='right')\n",
    "plt.ylabel(\"Average Count\")\n",
    "plt.title(\"Average Word and Sentence Count by Publication\")\n",
    "plt.legend()\n",
    "\n",
    "# Add overall average text box in top-left corner\n",
    "plt.text(\n",
    "    0.01, 0.95,\n",
    "    f\"Overall Avg Words: {overall_avg_words:.0f}\\nOverall Avg Sentences: {overall_avg_sentences:.0f}\",\n",
    "    transform=plt.gca().transAxes,\n",
    "    fontsize=10,\n",
    "    verticalalignment='top',\n",
    "    bbox=dict(facecolor='white', edgecolor='gray', boxstyle='round,pad=0.3')\n",
    ")\n",
    "\n",
    "plt.tight_layout()\n",
    "plt.show()\n"
   ]
  },
  {
   "cell_type": "code",
   "execution_count": null,
   "metadata": {},
   "outputs": [],
   "source": []
  }
 ],
 "metadata": {
  "kernelspec": {
   "display_name": "Python 3",
   "language": "python",
   "name": "python3"
  },
  "language_info": {
   "codemirror_mode": {
    "name": "ipython",
    "version": 3
   },
   "file_extension": ".py",
   "mimetype": "text/x-python",
   "name": "python",
   "nbconvert_exporter": "python",
   "pygments_lexer": "ipython3",
   "version": "3.12.5"
  }
 },
 "nbformat": 4,
 "nbformat_minor": 2
}
