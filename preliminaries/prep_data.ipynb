{
 "cells": [
  {
   "cell_type": "markdown",
   "metadata": {},
   "source": [
    "# Preliminaries \n",
    "\n",
    "The `all-the-news` dataset is really quite nice and has a **TON** of data, this is actually a problem. We address this and other issues in this notebook: \n",
    "\n",
    "* We trim the dataset down from 2.1M rows to a much more manageable 150k rows \n",
    "* We filter out the 10% longest and 10% shortest articles (These are usually either transcripts or had a scraping error)\n",
    "* Also we remove Chinese (some of the articles are non English)\n",
    "* We assign a train test split that is representative of each publication \n",
    "* We remove some words that would be considered cheating like publication names, author names, and urls. If we are just learning to recognize keywords from a source like \"NYT\" or nyt.com in the body of an article - we aren't actually learning anything beyond a rule based approach! "
   ]
  },
  {
   "cell_type": "markdown",
   "metadata": {},
   "source": [
    "#### 1.) Downsize the data"
   ]
  },
  {
   "cell_type": "code",
   "execution_count": 1,
   "metadata": {},
   "outputs": [],
   "source": [
    "import polars as pl\n",
    "import random\n",
    "import re \n",
    "from tqdm import tqdm"
   ]
  },
  {
   "cell_type": "code",
   "execution_count": 2,
   "metadata": {},
   "outputs": [],
   "source": [
    "# Load the dataset\n",
    "df = pl.read_csv(\"all-the-news-2-1-LARGE.csv\")"
   ]
  },
  {
   "cell_type": "code",
   "execution_count": 3,
   "metadata": {},
   "outputs": [],
   "source": [
    "# Define target sources and their desired counts\n",
    "target_counts = {\n",
    "    \"The New York Times\": 15000,\n",
    "    \"The Hill\": 15000,\n",
    "    \"Reuters\": 15000,\n",
    "    \"People\": 15000,\n",
    "    \"CNN\": 15000,\n",
    "    \"Vice\": 15000,\n",
    "    \"Politico\": 15000,\n",
    "    \"Buzzfeed News\": 15000,\n",
    "    \"Economist\": 15000,\n",
    "    \"Fox News\": 15000,\n",
    "}\n",
    "\n",
    "# Filter to only target sources\n",
    "df = df.filter(pl.col(\"publication\").is_in(list(target_counts.keys())))\n",
    "\n",
    "# remove articles with length 0 or null \n",
    "df = df.filter(pl.col(\"article\").is_not_null())\n",
    "\n",
    "# Compute 10th and 90th percentiles of article length\n",
    "article_lengths = df.select(pl.col(\"article\").str.len_chars().alias(\"length\"))\n",
    "\n",
    "lower_bound = article_lengths.select(pl.col(\"length\").quantile(0.10)).item()\n",
    "upper_bound = article_lengths.select(pl.col(\"length\").quantile(0.90)).item()\n",
    "\n",
    "# Filter based on these quantiles\n",
    "df = df.with_columns([\n",
    "    pl.col(\"article\").str.len_chars().alias(\"article_length\")\n",
    "]).filter(\n",
    "    (pl.col(\"article_length\") > lower_bound) & (pl.col(\"article_length\") < upper_bound)\n",
    ").drop(\"article_length\")"
   ]
  },
  {
   "cell_type": "markdown",
   "metadata": {},
   "source": [
    "#### 1b.) Quick fix to remove Chinese "
   ]
  },
  {
   "cell_type": "code",
   "execution_count": 4,
   "metadata": {},
   "outputs": [],
   "source": [
    "# Remove any article with Chinese characters in the title \n",
    "df = df.filter(~pl.col(\"title\").str.contains(r\"[\\u4e00-\\u9fff]\"))"
   ]
  },
  {
   "cell_type": "code",
   "execution_count": 5,
   "metadata": {},
   "outputs": [
    {
     "name": "stdout",
     "output_type": "stream",
     "text": [
      "shape: (10, 2)\n",
      "┌────────────────────┬───────┐\n",
      "│ publication        ┆ count │\n",
      "│ ---                ┆ ---   │\n",
      "│ str                ┆ u32   │\n",
      "╞════════════════════╪═══════╡\n",
      "│ People             ┆ 15000 │\n",
      "│ The Hill           ┆ 15000 │\n",
      "│ Vice               ┆ 15000 │\n",
      "│ Economist          ┆ 15000 │\n",
      "│ CNN                ┆ 15000 │\n",
      "│ Buzzfeed News      ┆ 15000 │\n",
      "│ Politico           ┆ 15000 │\n",
      "│ The New York Times ┆ 15000 │\n",
      "│ Reuters            ┆ 15000 │\n",
      "│ Fox News           ┆ 15000 │\n",
      "└────────────────────┴───────┘\n"
     ]
    },
    {
     "name": "stderr",
     "output_type": "stream",
     "text": [
      "/var/folders/kr/nlrwk4z12mj5x_srmfby65p40000gn/T/ipykernel_21396/785617648.py:17: DeprecationWarning: `GroupBy.count` is deprecated. It has been renamed to `len`.\n",
      "  .count()\n"
     ]
    }
   ],
   "source": [
    "# Downsample by longest articles for each publication\n",
    "filtered_parts = []\n",
    "\n",
    "for pub, target_size in target_counts.items():\n",
    "    pub_df = (\n",
    "        df.filter(pl.col(\"publication\") == pub)\n",
    "          .head(target_size)\n",
    "    )\n",
    "    filtered_parts.append(pub_df)\n",
    "\n",
    "# Combine all filtered parts\n",
    "trimmed_df = pl.concat(filtered_parts)\n",
    "\n",
    "# Group and count by publication\n",
    "final_counts = (\n",
    "    trimmed_df.group_by(\"publication\")\n",
    "              .count()\n",
    "              .sort(\"count\", descending=True)\n",
    ")\n",
    "\n",
    "# Print results\n",
    "print(final_counts)"
   ]
  },
  {
   "cell_type": "markdown",
   "metadata": {},
   "source": [
    "#### 2.) Split into train and test segments"
   ]
  },
  {
   "cell_type": "code",
   "execution_count": 6,
   "metadata": {},
   "outputs": [],
   "source": [
    "import polars as pl\n",
    "import numpy as np\n",
    "\n",
    "random_state = 42\n",
    "np.random.seed(random_state)\n",
    "\n",
    "def assign_splits(group: pl.DataFrame) -> pl.DataFrame:\n",
    "    n = len(group)\n",
    "    indices = np.random.permutation(n)  # Shuffle indices\n",
    "    split = np.where(indices < 1000, \"test\", \"train\")  # Assign first 1k as test\n",
    "    return group.with_columns(pl.Series(\"split\", split))\n",
    "\n",
    "# Apply to each group\n",
    "trimmed_df = (\n",
    "    trimmed_df\n",
    "    .group_by(\"publication\", maintain_order=True)\n",
    "    .map_groups(assign_splits)\n",
    ")"
   ]
  },
  {
   "cell_type": "code",
   "execution_count": 7,
   "metadata": {},
   "outputs": [
    {
     "name": "stdout",
     "output_type": "stream",
     "text": [
      "shape: (20, 3)\n",
      "┌────────────────────┬───────┬───────┐\n",
      "│ publication        ┆ split ┆ count │\n",
      "│ ---                ┆ ---   ┆ ---   │\n",
      "│ str                ┆ str   ┆ u32   │\n",
      "╞════════════════════╪═══════╪═══════╡\n",
      "│ Buzzfeed News      ┆ test  ┆ 1000  │\n",
      "│ Buzzfeed News      ┆ train ┆ 14000 │\n",
      "│ CNN                ┆ test  ┆ 1000  │\n",
      "│ CNN                ┆ train ┆ 14000 │\n",
      "│ Economist          ┆ test  ┆ 1000  │\n",
      "│ …                  ┆ …     ┆ …     │\n",
      "│ The Hill           ┆ train ┆ 14000 │\n",
      "│ The New York Times ┆ test  ┆ 1000  │\n",
      "│ The New York Times ┆ train ┆ 14000 │\n",
      "│ Vice               ┆ test  ┆ 1000  │\n",
      "│ Vice               ┆ train ┆ 14000 │\n",
      "└────────────────────┴───────┴───────┘\n"
     ]
    },
    {
     "name": "stderr",
     "output_type": "stream",
     "text": [
      "/var/folders/kr/nlrwk4z12mj5x_srmfby65p40000gn/T/ipykernel_21396/167683159.py:4: DeprecationWarning: `pl.count()` is deprecated. Please use `pl.len()` instead.\n",
      "  .agg(pl.count())\n"
     ]
    }
   ],
   "source": [
    "print(\n",
    "    trimmed_df\n",
    "    .group_by(\"publication\", \"split\")\n",
    "    .agg(pl.count())\n",
    "    .sort(\"publication\", \"split\")\n",
    ")"
   ]
  },
  {
   "cell_type": "code",
   "execution_count": 8,
   "metadata": {},
   "outputs": [],
   "source": [
    "trimmed_df.write_csv(\"all-the-news-2-1-SMALL.csv\")"
   ]
  },
  {
   "cell_type": "markdown",
   "metadata": {},
   "source": [
    "#### 3.) Clean the data"
   ]
  },
  {
   "cell_type": "code",
   "execution_count": 9,
   "metadata": {},
   "outputs": [],
   "source": [
    "publications = [\n",
    "    \"Politico\", \"The Hill\", \"The New York Times\", \"Economist\",\n",
    "    \"Reuters\", \"Fox News\", \"Vice\", \"CNN\", \"Buzzfeed News\", \"People\"\n",
    "]\n",
    "\n",
    "# Base patterns\n",
    "base_patterns = [\n",
    "    r\"\\b\" + re.escape(pub) + r\"\\b\" for pub in publications\n",
    "] + [\n",
    "    r\"\\bNYT\\b\", r\"\\bFox\\b\", r\"\\bBF\\b\", r\"\\bCNN\\.com\\b\", r\"\\bVICE\\b\"\n",
    "]\n",
    "\n",
    "# Domain patterns\n",
    "domain_patterns = [\n",
    "    r\"politico\\.com\", r\"thehill\\.com\", r\"nytimes\\.com\", \n",
    "    r\"economist\\.com\", r\"reuters\\.com\", r\"foxnews\\.com\",\n",
    "    r\"vice\\.com\", r\"cnn\\.com\", r\"buzzfeednews\\.com\", r\"people\\.com\"\n",
    "]\n",
    "\n",
    "# Combined regex pattern (case-insensitive)\n",
    "pattern = r\"(?i)(\" + \"|\".join(base_patterns + domain_patterns) + \")\""
   ]
  },
  {
   "cell_type": "code",
   "execution_count": 10,
   "metadata": {},
   "outputs": [
    {
     "name": "stderr",
     "output_type": "stream",
     "text": [
      "Cleaning articles:   0%|          | 0/150000 [00:00<?, ?it/s]/var/folders/kr/nlrwk4z12mj5x_srmfby65p40000gn/T/ipykernel_21396/1704402445.py:19: MapWithoutReturnDtypeWarning: Calling `map_elements` without specifying `return_dtype` can lead to unpredictable results. Specify `return_dtype` to silence this warning.\n",
      "  cleaned_df = trimmed_df.with_columns(\n",
      "Cleaning articles: 100%|██████████| 150000/150000 [01:19<00:00, 1893.70it/s]\n"
     ]
    }
   ],
   "source": [
    "# Initialize counter\n",
    "row_counter = 0\n",
    "total_rows = len(trimmed_df)\n",
    "progress = tqdm(total=total_rows, desc=\"Cleaning articles\")\n",
    "\n",
    "# Modified cleaning function with progress update\n",
    "def clean_article_with_progress(text: str) -> str:\n",
    "    global row_counter\n",
    "    text = re.sub(pattern, \"[PUB]\", text)\n",
    "    \n",
    "    # Update progress every 1000 rows (reduces overhead)\n",
    "    row_counter += 1\n",
    "    if row_counter % 1000 == 0:\n",
    "        progress.update(1000)\n",
    "    \n",
    "    return text\n",
    "\n",
    "# Apply with map_elements\n",
    "cleaned_df = trimmed_df.with_columns(\n",
    "    pl.col(\"article\").map_elements(clean_article_with_progress).alias(\"clean_article\")\n",
    ")\n",
    "\n",
    "# Close progress bar\n",
    "progress.close()"
   ]
  },
  {
   "cell_type": "code",
   "execution_count": 11,
   "metadata": {},
   "outputs": [],
   "source": [
    "# Remove URLs\n",
    "cleaned_df = cleaned_df.with_columns(\n",
    "    pl.col(\"clean_article\").str.replace_all(r\"https?://\\S+\", \"[URL]\"),\n",
    ")"
   ]
  },
  {
   "cell_type": "code",
   "execution_count": 12,
   "metadata": {},
   "outputs": [
    {
     "name": "stderr",
     "output_type": "stream",
     "text": [
      "/var/folders/kr/nlrwk4z12mj5x_srmfby65p40000gn/T/ipykernel_21396/3536730350.py:5: DeprecationWarning: `pl.count()` is deprecated. Please use `pl.len()` instead.\n",
      "  .agg(pl.count().alias(\"n_articles\"))\n"
     ]
    }
   ],
   "source": [
    "# Step 1: Count how many articles each author appears in\n",
    "author_counts = (\n",
    "    cleaned_df\n",
    "    .group_by(\"author\")\n",
    "    .agg(pl.count().alias(\"n_articles\"))\n",
    "    .filter(pl.col(\"author\").is_not_null())\n",
    ")\n",
    "\n",
    "# Step 2: Identify authors who only appear in one article\n",
    "single_use_authors = (\n",
    "    author_counts\n",
    "    .filter(pl.col(\"n_articles\") == 1)\n",
    "    .get_column(\"author\")\n",
    "    .to_list()\n",
    ")\n",
    "\n",
    "# Step 3: Create a mapping of article to its author (for single-use authors only)\n",
    "author_mapping = (\n",
    "    cleaned_df\n",
    "    .select([\"clean_article\", \"author\"])\n",
    "    .filter(pl.col(\"author\").is_in(single_use_authors))\n",
    ")\n",
    "\n",
    "# Step 4: Remove only the specific author from their own article\n",
    "cleaned_df = cleaned_df.with_columns(\n",
    "    pl.struct([\"clean_article\", \"author\"]).map_elements(\n",
    "        lambda x: x[\"clean_article\"].replace(x[\"author\"], \"[AUTHOR]\") \n",
    "        if x[\"author\"] in single_use_authors \n",
    "        else x[\"clean_article\"],\n",
    "        return_dtype=pl.String\n",
    "    ).alias(\"clean_article\")\n",
    ")"
   ]
  },
  {
   "cell_type": "code",
   "execution_count": 13,
   "metadata": {},
   "outputs": [],
   "source": [
    "# Re-apply publication name cleaning to catch any missed instances\n",
    "cleaned_df = cleaned_df.with_columns(\n",
    "    pl.col(\"clean_article\").str.replace_all(pattern, \"[PUB]\").alias(\"clean_article\")\n",
    ")\n",
    "\n",
    "# Check if cleaning was successful\n",
    "sample = cleaned_df.sample(5)\n",
    "for pub in publications:\n",
    "    sample_with_pub = sample.filter(pl.col(\"clean_article\").str.contains(pub, literal=True))\n",
    "    if len(sample_with_pub) > 0:\n",
    "        print(f\"Warning: Found {pub} in sample\")\n",
    "\n"
   ]
  },
  {
   "cell_type": "markdown",
   "metadata": {},
   "source": [
    "#### Sanity check - lets look at average article length"
   ]
  },
  {
   "cell_type": "code",
   "execution_count": 14,
   "metadata": {},
   "outputs": [
    {
     "name": "stdout",
     "output_type": "stream",
     "text": [
      "shape: (10, 5)\n",
      "┌────────────────────┬─────────────┬───────────────┬────────────┬────────────┐\n",
      "│ publication        ┆ avg_length  ┆ median_length ┆ min_length ┆ max_length │\n",
      "│ ---                ┆ ---         ┆ ---           ┆ ---        ┆ ---        │\n",
      "│ str                ┆ f64         ┆ f64           ┆ u32        ┆ u32        │\n",
      "╞════════════════════╪═════════════╪═══════════════╪════════════╪════════════╡\n",
      "│ Economist          ┆ 4126.166067 ┆ 4127.5        ┆ 382        ┆ 6528       │\n",
      "│ The New York Times ┆ 3313.591133 ┆ 3194.5        ┆ 386        ┆ 6531       │\n",
      "│ CNN                ┆ 3134.509933 ┆ 2850.0        ┆ 395        ┆ 6533       │\n",
      "│ Politico           ┆ 3002.584467 ┆ 2645.0        ┆ 382        ┆ 6528       │\n",
      "│ Vice               ┆ 2954.5134   ┆ 2641.0        ┆ 386        ┆ 6529       │\n",
      "│ Buzzfeed News      ┆ 2918.1836   ┆ 2737.0        ┆ 380        ┆ 6526       │\n",
      "│ The Hill           ┆ 2907.2376   ┆ 2448.0        ┆ 373        ┆ 6525       │\n",
      "│ Fox News           ┆ 2479.0442   ┆ 2210.0        ┆ 392        ┆ 6519       │\n",
      "│ Reuters            ┆ 2400.663133 ┆ 2253.5        ┆ 382        ┆ 6524       │\n",
      "│ People             ┆ 2373.6562   ┆ 2151.5        ┆ 328        ┆ 6507       │\n",
      "└────────────────────┴─────────────┴───────────────┴────────────┴────────────┘\n"
     ]
    }
   ],
   "source": [
    "avg_length = (\n",
    "    cleaned_df\n",
    "    .group_by(\"publication\")\n",
    "    .agg(\n",
    "        pl.col(\"clean_article\").str.len_chars().mean().alias(\"avg_length\"),\n",
    "        pl.col(\"clean_article\").str.len_chars().median().alias(\"median_length\"),\n",
    "        pl.col(\"clean_article\").str.len_chars().min().alias(\"min_length\"),\n",
    "        pl.col(\"clean_article\").str.len_chars().max().alias(\"max_length\")\n",
    "    )\n",
    "    .sort(\"avg_length\", descending=True)\n",
    ")\n",
    "print(avg_length)"
   ]
  },
  {
   "cell_type": "code",
   "execution_count": 15,
   "metadata": {},
   "outputs": [],
   "source": [
    "# Drop the original article column\n",
    "cleaned_df = cleaned_df.drop(\"article\")"
   ]
  },
  {
   "cell_type": "markdown",
   "metadata": {},
   "source": [
    "#### Save our cleaned data! "
   ]
  },
  {
   "cell_type": "code",
   "execution_count": 16,
   "metadata": {},
   "outputs": [],
   "source": [
    "# Save the cleaned DataFrame to a CSV file\n",
    "cleaned_df.write_csv(\"all-the-news-2-1-SMALL-CLEANED.csv\")"
   ]
  }
 ],
 "metadata": {
  "kernelspec": {
   "display_name": "Python 3",
   "language": "python",
   "name": "python3"
  },
  "language_info": {
   "codemirror_mode": {
    "name": "ipython",
    "version": 3
   },
   "file_extension": ".py",
   "mimetype": "text/x-python",
   "name": "python",
   "nbconvert_exporter": "python",
   "pygments_lexer": "ipython3",
   "version": "3.12.5"
  }
 },
 "nbformat": 4,
 "nbformat_minor": 2
}
